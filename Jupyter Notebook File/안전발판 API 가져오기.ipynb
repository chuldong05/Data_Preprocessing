{
 "cells": [
  {
   "cell_type": "code",
   "execution_count": null,
   "id": "f79a3aab",
   "metadata": {},
   "outputs": [],
   "source": [
    "import requests\n",
    "import json\n",
    "\n",
    "url = \"http://swopenapi.seoul.go.kr/api/subway/6d6542544a77686436394173695a78/json/realtimePosition/0/10/2호선\"\n",
    "\n",
    "\n",
    "response = requests.get(url)\n",
    "# print(response.content)\n",
    "# 들여쓰기가 된 채로 출력\n",
    "parsed_data = json.loads(response.text)\n",
    "print(json.dumps(parsed_data, indent=4,ensure_ascii=False))"
   ]
  }
 ],
 "metadata": {
  "kernelspec": {
   "display_name": "Python 3 (ipykernel)",
   "language": "python",
   "name": "python3"
  },
  "language_info": {
   "codemirror_mode": {
    "name": "ipython",
    "version": 3
   },
   "file_extension": ".py",
   "mimetype": "text/x-python",
   "name": "python",
   "nbconvert_exporter": "python",
   "pygments_lexer": "ipython3",
   "version": "3.8.16"
  }
 },
 "nbformat": 4,
 "nbformat_minor": 5
}
